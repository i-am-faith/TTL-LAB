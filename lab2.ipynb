{
 "cells": [
  {
   "cell_type": "code",
   "execution_count": 5,
   "metadata": {},
   "outputs": [
    {
     "name": "stdout",
     "output_type": "stream",
     "text": [
      "10 is less than 20\n",
      "End of Programme\n"
     ]
    }
   ],
   "source": [
    "if 10<20:\n",
    "    print('10 is less than 20')\n",
    "print('End of Programme')"
   ]
  },
  {
   "cell_type": "code",
   "execution_count": 7,
   "metadata": {},
   "outputs": [
    {
     "name": "stdout",
     "output_type": "stream",
     "text": [
      "Hello Sourin! Good Morning\n",
      "How are you!!!\n"
     ]
    }
   ],
   "source": [
    "name = input(\"Enter Name = \")\n",
    "if name==\"Sourin\":\n",
    "    print(\"Hello Sourin! Good Morning\")\n",
    "print(\"How are you!!!\")"
   ]
  },
  {
   "cell_type": "code",
   "execution_count": 3,
   "metadata": {},
   "outputs": [
    {
     "name": "stdout",
     "output_type": "stream",
     "text": [
      "Hello Guest! Good Morning\n",
      "How are you?\n"
     ]
    }
   ],
   "source": [
    "name = input(\"Enter Name = \")\n",
    "if name == \"Sourin\":\n",
    "    print(\"Hello Sourin! Good Morning\")\n",
    "else:\n",
    "    print(\"Hello Guest! Good Morning\")\n",
    "print(\"How are you?\")"
   ]
  },
  {
   "cell_type": "code",
   "execution_count": 9,
   "metadata": {},
   "outputs": [
    {
     "name": "stdout",
     "output_type": "stream",
     "text": [
      "12 is Greater\n"
     ]
    }
   ],
   "source": [
    "# Question 1 [Greater in 2]\n",
    "num1 = input(\"Enter First Number = \")\n",
    "num2 = input(\"Enter Second Number = \")\n",
    "if(num1 > num2):\n",
    "    print(num1 , \"is Greater\")\n",
    "else:\n",
    "    print(num2 , \"is Greater\")"
   ]
  },
  {
   "cell_type": "code",
   "execution_count": 11,
   "metadata": {},
   "outputs": [
    {
     "name": "stdout",
     "output_type": "stream",
     "text": [
      "45 is Greater\n"
     ]
    }
   ],
   "source": [
    "# Question 2 [Greater in 3]\n",
    "num1 = input(\"Enter First Number = \")\n",
    "num2 = input(\"Enter Second Number = \")\n",
    "num3 = input(\"Enter Third Number = \")\n",
    "if(num1 > num2 and num1 > num3):\n",
    "    print(num1 , \"is Greater\")\n",
    "elif(num2 > num1 and num2 > num3):\n",
    "    print(num2 , \"is Greater\")\n",
    "else:\n",
    "    print(num3 , \"is Greater\")"
   ]
  },
  {
   "cell_type": "code",
   "execution_count": 12,
   "metadata": {},
   "outputs": [
    {
     "name": "stdout",
     "output_type": "stream",
     "text": [
      "1 is Smaller\n"
     ]
    }
   ],
   "source": [
    "# Question3 [Smaller in 3]\n",
    "num1 = input(\"Enter First Number = \")\n",
    "num2 = input(\"Enter Second Number = \")\n",
    "num3 = input(\"Enter Third Number = \")\n",
    "if(num1 < num2 and num1 < num3):\n",
    "    print(num1 , \"is Smaller\")\n",
    "elif(num2 < num1 and num2 < num3):\n",
    "    print(num2 , \"is Smaller\")\n",
    "else:\n",
    "    print(num3 , \"is Smaller\")"
   ]
  },
  {
   "cell_type": "code",
   "execution_count": 15,
   "metadata": {},
   "outputs": [
    {
     "name": "stdout",
     "output_type": "stream",
     "text": [
      "Even\n"
     ]
    }
   ],
   "source": [
    "#Question 4 [Even , Odd]\n",
    "num = int(input(\"Enter Number = \"))\n",
    "if num % 2 == 0:\n",
    "    print(\"Even\")\n",
    "else:\n",
    "    print(\"Odd\")"
   ]
  },
  {
   "cell_type": "code",
   "execution_count": 18,
   "metadata": {},
   "outputs": [
    {
     "name": "stdout",
     "output_type": "stream",
     "text": [
      "1200 is not between 1 and 100\n"
     ]
    }
   ],
   "source": [
    "#Question 5 [1 to 100]\n",
    "num = int(input(\"Enter Number = \"))\n",
    "if(num>=1 and num<=100):\n",
    "    print(num, \"is between 1 and 100\")\n",
    "else:\n",
    "    print(num, \"is not between 1 and 100\")"
   ]
  },
  {
   "cell_type": "code",
   "execution_count": 22,
   "metadata": {},
   "outputs": [
    {
     "name": "stdout",
     "output_type": "stream",
     "text": [
      "The English word for 8 is Eight\n"
     ]
    }
   ],
   "source": [
    "#Question 6 [number to words]\n",
    "num = input(\"Enter a single-digit number: \")\n",
    "\n",
    "\n",
    "if len(num) == 1 and num.isdigit():\n",
    "    digit = int(num)\n",
    "    \n",
    "\n",
    "    words = [\"Zero\", \"One\", \"Two\", \"Three\", \"Four\", \"Five\", \"Six\", \"Seven\", \"Eight\", \"Nine\"]\n",
    "    \n",
    "\n",
    "    print(\"The English word for\" , digit , \"is\" ,words[digit])\n",
    "else:\n",
    "    print(\"Please enter a valid single-digit number.\")\n"
   ]
  },
  {
   "cell_type": "code",
   "execution_count": 8,
   "metadata": {},
   "outputs": [
    {
     "name": "stdout",
     "output_type": "stream",
     "text": [
      "Leap Year\n"
     ]
    }
   ],
   "source": [
    "#Question 7 [leapyear]\n",
    "year = int(input(\"Enter Year = \"))\n",
    "if(year % 100 == 0):\n",
    "    if(year % 400 == 0):\n",
    "        print(\"Leap Year\")\n",
    "    else:\n",
    "        print(\"Not a Leap Year\")\n",
    "else:\n",
    "    if(year % 4 == 0):\n",
    "        print(\"Leap Year\")\n",
    "    else:\n",
    "        print(\"Not a Leap Year\")"
   ]
  },
  {
   "cell_type": "code",
   "execution_count": 2,
   "metadata": {},
   "outputs": [
    {
     "name": "stdout",
     "output_type": "stream",
     "text": [
      "HELLO SOURIN\n"
     ]
    }
   ],
   "source": [
    "#Question 8 [uppercase]\n",
    "str = input(\"Enter your msg in Lower Case\")\n",
    "str1 = str.upper()\n",
    "print(str1)"
   ]
  },
  {
   "cell_type": "code",
   "execution_count": 34,
   "metadata": {},
   "outputs": [
    {
     "name": "stdout",
     "output_type": "stream",
     "text": [
      "Grade = C\n"
     ]
    }
   ],
   "source": [
    "#Question 9 [Grade]\n",
    "marks = int(input(\"Enter Number = \"))\n",
    "if(marks > 90):\n",
    "    print(\"Grade = A\")\n",
    "elif(marks > 80 and marks <= 90):\n",
    "    print(\"Grade = B\")\n",
    "elif(marks >= 60 and marks <= 80):\n",
    "    print(\"Grade = C\")\n",
    "else:\n",
    "    print(\"Grade = D\")\n"
   ]
  },
  {
   "cell_type": "code",
   "execution_count": 38,
   "metadata": {},
   "outputs": [
    {
     "name": "stdout",
     "output_type": "stream",
     "text": [
      "110000.0\n"
     ]
    }
   ],
   "source": [
    "#Question 10 [tax cost]\n",
    "cost = float(input(\"Enter Cost Price = \"))\n",
    "if(cost > 100000):\n",
    "    tax_cost = cost + cost * 0.15\n",
    "elif(cost > 50000 and cost <= 100000):\n",
    "    tax_cost = cost + cost * 0.1\n",
    "else:\n",
    "    tax_cost = cost + cost * 0.05\n",
    "print(tax_cost)"
   ]
  },
  {
   "cell_type": "code",
   "execution_count": 43,
   "metadata": {},
   "outputs": [
    {
     "name": "stdout",
     "output_type": "stream",
     "text": [
      "Three Digit Number\n"
     ]
    }
   ],
   "source": [
    "#Question 11 [Three digit number]\n",
    "num = int(input(\"Enter Number = \"))\n",
    "if(num >= 100 and num <= 999):\n",
    "    print(\"Three Digit Number\")\n",
    "else:\n",
    "    print(\"Not a Three Digit Number\")"
   ]
  },
  {
   "cell_type": "code",
   "execution_count": 9,
   "metadata": {},
   "outputs": [
    {
     "name": "stdout",
     "output_type": "stream",
     "text": [
      "March has 31 days.\n"
     ]
    }
   ],
   "source": [
    "#Question 12 [calendar]\n",
    "def get_month_details(month):\n",
    "    months = {\n",
    "        1: (\"January\", 31),\n",
    "        2: (\"February\", 28),\n",
    "        3: (\"March\", 31),\n",
    "        4: (\"April\", 30),\n",
    "        5: (\"May\", 31),\n",
    "        6: (\"June\", 30),\n",
    "        7: (\"July\", 31),\n",
    "        8: (\"August\", 31),\n",
    "        9: (\"September\", 30),\n",
    "        10: (\"October\", 31),\n",
    "        11: (\"November\", 30),\n",
    "        12: (\"December\", 31)\n",
    "    }\n",
    "\n",
    "\n",
    "    if month in months:\n",
    "        return months[month]\n",
    "    else:\n",
    "        return None\n",
    "\n",
    "\n",
    "month_num = int(input(\"Enter a number from 1 to 12: \"))\n",
    "\n",
    "\n",
    "month_details = get_month_details(month_num)\n",
    "\n",
    "if month_details:\n",
    "\n",
    "    month_name, num_days = month_details\n",
    "\n",
    "    print(month_name, \"has\", num_days, \"days.\")\n",
    "else:\n",
    "    print(\"Invalid input. Please enter a number from 1 to 12.\")\n"
   ]
  },
  {
   "cell_type": "code",
   "execution_count": 55,
   "metadata": {},
   "outputs": [
    {
     "name": "stdout",
     "output_type": "stream",
     "text": [
      "Net Bonus Amount =  105.0\n"
     ]
    }
   ],
   "source": [
    "#Question 13 [bonus based on YOS]\n",
    "salary = float(input(\"Enter Your Salary = \"))\n",
    "yos = int(input(\"Enter Years Of Services = \"))\n",
    "\n",
    "if(yos > 5):\n",
    "    net = salary + salary * 0.05\n",
    "else:\n",
    "    net = salary\n",
    "print(\"Net Bonus Amount = \" , net)"
   ]
  },
  {
   "cell_type": "code",
   "execution_count": 58,
   "metadata": {},
   "outputs": [
    {
     "name": "stdout",
     "output_type": "stream",
     "text": [
      "It is a rectangle\n"
     ]
    }
   ],
   "source": [
    "#Question 14 [check square]\n",
    "lent = int(input(\"Enter length = \"))\n",
    "wid = int(input(\"Enter breadth = \"))\n",
    "\n",
    "if(lent == wid):\n",
    "    print(\"It is a square\")\n",
    "else:\n",
    "    print(\"It is a rectangle\")"
   ]
  },
  {
   "cell_type": "code",
   "execution_count": 5,
   "metadata": {},
   "outputs": [
    {
     "name": "stdout",
     "output_type": "stream",
     "text": [
      "Total Cost =  1800.0\n"
     ]
    }
   ],
   "source": [
    "#Question 15 [disocunt of 1000]\n",
    "cost = float(input(\"Enter cost of the product = \"))\n",
    "quantity = float(input(\"Enter quantity of the product = \"))\n",
    "final = cost * quantity\n",
    "\n",
    "if(final > 1000):\n",
    "    discount = final * 0.1\n",
    "    final -= discount\n",
    "    print(\"Total Cost = \" , final)\n",
    "else:\n",
    "    print(\"Total Cost = \" , final)"
   ]
  }
 ],
 "metadata": {
  "kernelspec": {
   "display_name": "base",
   "language": "python",
   "name": "python3"
  },
  "language_info": {
   "codemirror_mode": {
    "name": "ipython",
    "version": 3
   },
   "file_extension": ".py",
   "mimetype": "text/x-python",
   "name": "python",
   "nbconvert_exporter": "python",
   "pygments_lexer": "ipython3",
   "version": "3.11.5"
  }
 },
 "nbformat": 4,
 "nbformat_minor": 2
}
