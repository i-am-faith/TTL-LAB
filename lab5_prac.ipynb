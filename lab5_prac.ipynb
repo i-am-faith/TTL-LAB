{
 "cells": [
  {
   "cell_type": "code",
   "execution_count": 1,
   "id": "f1776e76-c2cc-43c9-bfd4-d58d2ce1d303",
   "metadata": {},
   "outputs": [
    {
     "name": "stdout",
     "output_type": "stream",
     "text": [
      "Virat Kohli\n",
      "Sachin Tendulkar\n"
     ]
    }
   ],
   "source": [
    "def student(firstname, lastname):\n",
    "    print(firstname, lastname)\n",
    "student(firstname='Virat', lastname='Kohli')\n",
    "student(lastname='Tendulkar',\n",
    "firstname='Sachin')"
   ]
  },
  {
   "cell_type": "code",
   "execution_count": 3,
   "id": "c6bf8707-a791-4997-90df-73ad0f0201ad",
   "metadata": {},
   "outputs": [
    {
     "name": "stdout",
     "output_type": "stream",
     "text": [
      "Case-1:\n",
      "Hi, I am Suraj\n",
      "My age is  27\n",
      "\n",
      "Case-2:\n",
      "Hi, I am 27\n",
      "My age is  Suraj\n"
     ]
    }
   ],
   "source": [
    "def nameAge(name, age):\n",
    "    print(\"Hi, I am\", name)\n",
    "    print(\"My age is \", age)\n",
    "# You will get correct output because\n",
    "# argument is given in order\n",
    "print(\"Case-1:\")\n",
    "nameAge(\"Suraj\", 27)\n",
    "# You will get incorrect output because\n",
    "# argument is not in order\n",
    "print(\"\\nCase-2:\")\n",
    "nameAge(27, \"Suraj\")"
   ]
  },
  {
   "cell_type": "code",
   "execution_count": 5,
   "id": "6f58a7b3-a64f-437a-a782-f4ec920ee28e",
   "metadata": {},
   "outputs": [
    {
     "name": "stdout",
     "output_type": "stream",
     "text": [
      "Hello\n",
      "Welcome\n",
      "to\n",
      "KIIT\n"
     ]
    }
   ],
   "source": [
    "# Python program to illustrate\n",
    "# *args for variable number of arguments\n",
    "def myFun(*argv):\n",
    "    for arg in argv:\n",
    "        print(arg)\n",
    "myFun('Hello', 'Welcome', 'to', 'KIIT')"
   ]
  },
  {
   "cell_type": "code",
   "execution_count": 8,
   "id": "67765c5a-993f-49a1-86c8-9c26727f5064",
   "metadata": {},
   "outputs": [
    {
     "name": "stdout",
     "output_type": "stream",
     "text": [
      "first == KIIT\n",
      "mid == Deemed\n",
      "last == University\n"
     ]
    }
   ],
   "source": [
    "def myFun(**kwargs):\n",
    "    for key, value in kwargs.items():\n",
    "        print(\"%s == %s\" % (key, value))\n",
    "# Driver code\n",
    "myFun(first='KIIT', mid='Deemed',\n",
    "last='University')"
   ]
  },
  {
   "cell_type": "code",
   "execution_count": 11,
   "id": "19b954db-4dda-4644-b094-f0fd10aab881",
   "metadata": {},
   "outputs": [
    {
     "name": "stdout",
     "output_type": "stream",
     "text": [
      "15\n",
      "30\n",
      "13\n",
      "33\n",
      "2\n"
     ]
    }
   ],
   "source": [
    "x = lambda a : a + 10\n",
    "print(x(5))\n",
    "\n",
    "x = lambda a, b : a * b\n",
    "print(x(5, 6))\n",
    "\n",
    "x = lambda a, b, c : a + b + c\n",
    "print(x(5, 6, 2))\n",
    "\n",
    "def myfunc(n):\n",
    "    return lambda a : a * n\n",
    "mytripler = myfunc(3)\n",
    "print(mytripler(11))\n",
    "\n",
    "Max = lambda a, b : a if(a > b) else b\n",
    "print(Max(1, 2))"
   ]
  },
  {
   "cell_type": "code",
   "execution_count": 14,
   "id": "633216a1-751d-4900-9ef1-e47cfd58bbaf",
   "metadata": {},
   "outputs": [
    {
     "name": "stdout",
     "output_type": "stream",
     "text": [
      "invoking function defined with def keyword:\n",
      "Finding cube of number:{y}\n",
      "27000\n",
      "invoking lambda function: 27000\n"
     ]
    }
   ],
   "source": [
    "def cube(y):\n",
    "    print(\"Finding cube of number:{y}\")\n",
    "    return y * y * y\n",
    "lambda_cube = lambda num: num ** 3\n",
    "# invoking simple function\n",
    "print(\"invoking function defined with def keyword:\")\n",
    "print(cube(30))\n",
    "# invoking lambda function\n",
    "print(\"invoking lambda function:\",\n",
    "lambda_cube(30))"
   ]
  },
  {
   "cell_type": "code",
   "execution_count": 15,
   "id": "97a574e3-6664-4a7b-8cdc-6a79e3744eeb",
   "metadata": {},
   "outputs": [
    {
     "name": "stdout",
     "output_type": "stream",
     "text": [
      "[2, 4, 6, 8]\n"
     ]
    }
   ],
   "source": [
    "# Python program to demonstrate working of map.\n",
    "def addition(n):\n",
    "    return n + n\n",
    "numbers = (1, 2, 3, 4)\n",
    "result = map(addition, numbers)\n",
    "print(list(result))"
   ]
  },
  {
   "cell_type": "code",
   "execution_count": 16,
   "id": "138d4404-d15a-4fd0-922c-8d0c664c5cf9",
   "metadata": {},
   "outputs": [
    {
     "name": "stdout",
     "output_type": "stream",
     "text": [
      "[2, 4, 6, 8]\n"
     ]
    }
   ],
   "source": [
    "numbers = (1, 2, 3, 4)\n",
    "result = map(lambda x: x + x,\n",
    "numbers)\n",
    "print(list(result))"
   ]
  },
  {
   "cell_type": "code",
   "execution_count": 17,
   "id": "a8578f99-46e5-4722-8d1f-616900d875bc",
   "metadata": {},
   "outputs": [
    {
     "name": "stdout",
     "output_type": "stream",
     "text": [
      "The filtered letters are:\n",
      "e\n",
      "e\n"
     ]
    }
   ],
   "source": [
    "# function that filters vowels\n",
    "def fun(variable):\n",
    "    letters = ['a', 'e', 'i', 'o', 'u']\n",
    "    if (variable in letters):\n",
    "        return True\n",
    "    else:\n",
    "        return False\n",
    "# sequence\n",
    "sequence = ['g', 'e', 'e', 'j', 'k', 's', 'p',\n",
    "'r']\n",
    "# using filter function\n",
    "filtered = filter(fun, sequence)\n",
    "print('The filtered letters are:')\n",
    "for s in filtered:\n",
    "    print(s)"
   ]
  },
  {
   "cell_type": "code",
   "execution_count": 19,
   "id": "d79b1f39-993c-4f45-8743-1b30e0fe97e5",
   "metadata": {},
   "outputs": [
    {
     "name": "stdout",
     "output_type": "stream",
     "text": [
      "[1, 3, 5, 13]\n",
      "[0, 2, 8]\n"
     ]
    }
   ],
   "source": [
    "# a list contains both even and odd numbers.\n",
    "seq = [0, 1, 2, 3, 5, 8, 13]\n",
    "# result contains odd numbers of the\n",
    "list\n",
    "result = filter(lambda x: x % 2 != 0,\n",
    "seq)\n",
    "print(list(result))\n",
    "# result contains even numbers of the\n",
    "list\n",
    "result = filter(lambda x: x % 2 == 0,\n",
    "seq)\n",
    "print(list(result))"
   ]
  },
  {
   "cell_type": "code",
   "execution_count": 20,
   "id": "9f4a54be-5c80-4ef1-8759-775c19bae819",
   "metadata": {},
   "outputs": [
    {
     "name": "stdout",
     "output_type": "stream",
     "text": [
      "[1, 2, 3, 4]\n",
      "[4, 3, 2, 1]\n"
     ]
    }
   ],
   "source": [
    "x=[4, 1, 3, 2]\n",
    "print(sorted(x))\n",
    "print(sorted(x,reverse=True))"
   ]
  },
  {
   "cell_type": "code",
   "execution_count": 22,
   "id": "c9a07923-0815-405f-84dd-f8bdf5a1d808",
   "metadata": {},
   "outputs": [
    {
     "name": "stdout",
     "output_type": "stream",
     "text": [
      "['date', 'apple', 'banana', 'cherry', 'elderberry']\n",
      "['elderberry', 'banana', 'cherry', 'apple', 'date']\n"
     ]
    }
   ],
   "source": [
    "#sort list of words according to length of words using lambda function\n",
    "words = [\"apple\", \"banana\", \"cherry\", \"date\",\n",
    "\"elderberry\"]\n",
    "sorted_words = sorted(words, key=lambda x: len(x))\n",
    "print(sorted_words)\n",
    "sorted_words = sorted(words, key=lambda x: len(x),\n",
    "reverse=True)\n",
    "print(sorted_words)"
   ]
  },
  {
   "cell_type": "code",
   "execution_count": 25,
   "id": "95590165-c5b6-4f63-b586-b61d5fa55c60",
   "metadata": {},
   "outputs": [
    {
     "ename": "ModuleNotFoundError",
     "evalue": "No module named 'calc'",
     "output_type": "error",
     "traceback": [
      "\u001b[0;31m---------------------------------------------------------------------------\u001b[0m",
      "\u001b[0;31mModuleNotFoundError\u001b[0m                       Traceback (most recent call last)",
      "Cell \u001b[0;32mIn[25], line 2\u001b[0m\n\u001b[1;32m      1\u001b[0m \u001b[38;5;66;03m# importing module calc.py\u001b[39;00m\n\u001b[0;32m----> 2\u001b[0m \u001b[38;5;28;01mimport\u001b[39;00m \u001b[38;5;21;01mcalc\u001b[39;00m\n\u001b[1;32m      3\u001b[0m \u001b[38;5;28mprint\u001b[39m(calc\u001b[38;5;241m.\u001b[39madd(\u001b[38;5;241m10\u001b[39m, \u001b[38;5;241m2\u001b[39m))\n",
      "\u001b[0;31mModuleNotFoundError\u001b[0m: No module named 'calc'"
     ]
    }
   ],
   "source": [
    "# importing module calc.py\n",
    "import calc\n",
    "print(calc.add(10, 2))"
   ]
  },
  {
   "cell_type": "code",
   "execution_count": 27,
   "id": "a49f5f9d-570d-4214-84bc-512f1dda0778",
   "metadata": {},
   "outputs": [
    {
     "name": "stdout",
     "output_type": "stream",
     "text": [
      "4.0\n",
      "720\n"
     ]
    }
   ],
   "source": [
    "# importing sqrt() and factorial from the\n",
    "# module math \n",
    "from math import *\n",
    "# if we simply do \"import math\",then\n",
    "# math.sqrt(16) and math.factorial()\n",
    "# are required.\n",
    "print(sqrt(16))\n",
    "print(factorial(6))"
   ]
  },
  {
   "cell_type": "code",
   "execution_count": 29,
   "id": "fd584b10-357b-4fa0-b8a4-05de72452f96",
   "metadata": {},
   "outputs": [
    {
     "name": "stdout",
     "output_type": "stream",
     "text": [
      "4.0\n",
      "720\n"
     ]
    }
   ],
   "source": [
    "# importing sqrt() and factorialfrom the\n",
    "# module math\n",
    "import math as mt\n",
    "# if we simply do \"import math\",then\n",
    "# math.sqrt(16) andmath.factorial()\n",
    "# are required.\n",
    "print(mt.sqrt(16))\n",
    "print(mt.factorial(6))"
   ]
  },
  {
   "cell_type": "code",
   "execution_count": 30,
   "id": "b828ca5d-e30e-4d4d-b4ca-90dd0ecc2ba1",
   "metadata": {},
   "outputs": [
    {
     "name": "stdout",
     "output_type": "stream",
     "text": [
      "Hello my name is Ankit and I am from CSE.\n"
     ]
    }
   ],
   "source": [
    "class Student:\n",
    "    def __init__(somename, name, branch):\n",
    "        somename.name = name\n",
    "        somename.branch = branch\n",
    "    def show(somename):\n",
    "        print(\"Hello my name is \" + somename.name +\n",
    "        \" and I am from \"+somename.branch+\".\")\n",
    "obj = Student(\"Ankit\", \"CSE\")\n",
    "obj.show()"
   ]
  },
  {
   "cell_type": "code",
   "execution_count": 31,
   "id": "734ed24c-92e1-42a9-b4f7-795dc8723062",
   "metadata": {},
   "outputs": [
    {
     "name": "stdout",
     "output_type": "stream",
     "text": [
      "Hello, my name is Ankit\n"
     ]
    }
   ],
   "source": [
    "\n",
    "# Sample class with init method\n",
    "class Person:\n",
    "# init method or constructor\n",
    "    def __init__(self, name):\n",
    "        self.name = name\n",
    "    # Sample Method\n",
    "    def say_hi(self):\n",
    "        print('Hello, my name is',\n",
    "\n",
    "self.name)\n",
    "p = Person('Ankit')\n",
    "p.say_hi()"
   ]
  },
  {
   "cell_type": "code",
   "execution_count": 36,
   "id": "e4248803-248c-4fec-8202-2222decd28cf",
   "metadata": {},
   "outputs": [
    {
     "name": "stdout",
     "output_type": "stream",
     "text": [
      "My name is Ankit and I study in CSE.\n"
     ]
    }
   ],
   "source": [
    "    class Student:\n",
    "        def __init__(self, name, branch):\n",
    "            self.name = name\n",
    "            self.branch = branch\n",
    "        def __str__(self):\n",
    "            return f\"My name is {self.name} and I study in {self.branch}.\"\n",
    "my_obj = Student(\"Ankit\", \"CSE\")\n",
    "print(my_obj)"
   ]
  },
  {
   "cell_type": "code",
   "execution_count": 37,
   "id": "9292e901-c0fb-4068-b8e9-dd4bd29b7fba",
   "metadata": {},
   "outputs": [
    {
     "name": "stdout",
     "output_type": "stream",
     "text": [
      "KIIT\n"
     ]
    }
   ],
   "source": [
    "class University:\n",
    "    # default constructor\n",
    "    def __init__(self):\n",
    "        self.name = \"KIIT\"\n",
    "    # a method for printing data members\n",
    "    def print_name(self):\n",
    "        print(self.name)\n",
    "# creating object of the class\n",
    "obj = University()\n",
    "# calling the instance method using the object\n",
    "obj\n",
    "obj.print_name()"
   ]
  },
  {
   "cell_type": "code",
   "execution_count": 38,
   "id": "dc0e4089-3b13-4e10-a579-cc2a80556028",
   "metadata": {},
   "outputs": [
    {
     "name": "stdout",
     "output_type": "stream",
     "text": [
      "First number = 1000\n",
      "Second number = 2000\n",
      "Addition of two numbers = 3000\n",
      "First number = 10\n",
      "Second number = 20\n",
      "Addition of two numbers = 30\n"
     ]
    }
   ],
   "source": [
    "class Addition:\n",
    "    first = 0\n",
    "    second = 0\n",
    "    answer = 0\n",
    "    # parameterized constructor\n",
    "    def __init__(self, f, s):\n",
    "        self.first = f\n",
    "        self.second = s\n",
    "    def display(self):\n",
    "        print(\"First number = \" + str(self.first))\n",
    "        print(\"Second number = \" +\n",
    "        \n",
    "        str(self.second))\n",
    "        print(\"Addition of two numbers = \" +\n",
    "        \n",
    "        str(self.answer))\n",
    "        \n",
    "    def calculate(self):\n",
    "        self.answer = self.first + self.second\n",
    "# creating object of the class\n",
    "# this will invoke parameterized constructor\n",
    "obj1 = Addition(1000, 2000)\n",
    "# creating second object of same class\n",
    "obj2 = Addition(10, 20)\n",
    "obj1.calculate()\n",
    "obj2.calculate()\n",
    "obj1.display()\n",
    "obj2.display()"
   ]
  },
  {
   "cell_type": "code",
   "execution_count": 39,
   "id": "3da3ddf0-d3fe-479a-a131-1e13bd41751d",
   "metadata": {},
   "outputs": [
    {
     "name": "stdout",
     "output_type": "stream",
     "text": [
      "Satyam 102\n"
     ]
    }
   ],
   "source": [
    "# A Python program to demonstrate inheritance\n",
    "class Person(object):\n",
    "# Constructor\n",
    "    def __init__(self, name, id):\n",
    "        self.name = name\n",
    "        self.id = id\n",
    "    # To check if this person is an employee\n",
    "    def Display(self):\n",
    "        print(self.name, self.id)\n",
    "    # Driver code\n",
    "emp = Person(\"Satyam\", 102) # An Object of\n",
    "Person\n",
    "emp.Display()"
   ]
  },
  {
   "cell_type": "code",
   "execution_count": 40,
   "id": "b01b226f-3d15-4d44-a09a-a951d065888c",
   "metadata": {},
   "outputs": [
    {
     "name": "stdout",
     "output_type": "stream",
     "text": [
      "Mayank 103\n",
      "Emp class called\n"
     ]
    }
   ],
   "source": [
    "class Emp(Person):\n",
    "    def Print(self):\n",
    "        print(\"Emp class called\")\n",
    "Emp_details = Emp(\"Mayank\", 103)\n",
    "# calling parent class function\n",
    "Emp_details.Display()\n",
    "# Calling child class function\n",
    "Emp_details.Print()"
   ]
  },
  {
   "cell_type": "code",
   "execution_count": 41,
   "id": "554f2750-07ea-4442-8a12-96c20a4a8726",
   "metadata": {},
   "outputs": [
    {
     "name": "stdout",
     "output_type": "stream",
     "text": [
      "This function is in parent class.\n",
      "This function is in child class.\n",
      "Emp class called\n"
     ]
    }
   ],
   "source": [
    "# Python program to demonstrate single inheritance\n",
    "# Base class\n",
    "class Parent:\n",
    "    def func1(self):\n",
    "        print(\"This function is in parent class.\")\n",
    "# Derived class\n",
    "class Child(Parent):\n",
    "    def func2(self):\n",
    "        print(\"This function is in child class.\")\n",
    "# Driver's code\n",
    "object = Child()\n",
    "object.func1()\n",
    "object.func2()# Calling child class function\n",
    "Emp_details.Print()"
   ]
  },
  {
   "cell_type": "code",
   "execution_count": 42,
   "id": "9de906af-1f1d-4346-af0e-fb8417e42240",
   "metadata": {},
   "outputs": [
    {
     "name": "stdout",
     "output_type": "stream",
     "text": [
      "Father : RAM\n",
      "Mother : SITA\n"
     ]
    }
   ],
   "source": [
    "#Python program to demonstrate multiple inheritance\n",
    "# Base class1\n",
    "class Mother:\n",
    "    mothername = \"\"\n",
    "    def mother(self):\n",
    "        print(self.mothername)\n",
    "# Base class2\n",
    "class Father:\n",
    "    fathername = \"\"\n",
    "    def father(self):\n",
    "        print(self.fathername)\n",
    "# Derived class\n",
    "class Son(Mother, Father):\n",
    "    def parents(self):\n",
    "        print(\"Father :\", self.fathername)\n",
    "        print(\"Mother :\", self.mothername)\n",
    "# Driver's code\n",
    "s1 = Son()\n",
    "s1.fathername = \"RAM\"\n",
    "s1.mothername = \"SITA\"\n",
    "s1.parents()"
   ]
  }
 ],
 "metadata": {
  "kernelspec": {
   "display_name": "Python 3 (ipykernel)",
   "language": "python",
   "name": "python3"
  },
  "language_info": {
   "codemirror_mode": {
    "name": "ipython",
    "version": 3
   },
   "file_extension": ".py",
   "mimetype": "text/x-python",
   "name": "python",
   "nbconvert_exporter": "python",
   "pygments_lexer": "ipython3",
   "version": "3.12.1"
  }
 },
 "nbformat": 4,
 "nbformat_minor": 5
}
