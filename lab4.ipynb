{
 "cells": [
  {
   "cell_type": "code",
   "execution_count": 1,
   "metadata": {},
   "outputs": [
    {
     "name": "stdout",
     "output_type": "stream",
     "text": [
      "Welcome to the Simple Number Sum Calculator!\n",
      "Enter up to 10 numbers. Enter a negative number to stop.\n",
      "Sum of 3 numbers is: 60.0\n"
     ]
    }
   ],
   "source": [
    "#Question 1\n",
    "def calculate_sum():\n",
    "    total = 0  \n",
    "    count = 0  \n",
    "    \n",
    "    while True:\n",
    "        \n",
    "        num = float(input(\"Enter a number (enter a negative number to stop): \"))\n",
    "        \n",
    "        \n",
    "        if num < 0:\n",
    "            break  \n",
    "        \n",
    "        total += num  \n",
    "        count += 1    \n",
    "    \n",
    "    return total, count\n",
    "\n",
    "print(\"Welcome to the Simple Number Sum Calculator!\")\n",
    "print(\"Enter up to 10 numbers. Enter a negative number to stop.\")\n",
    "    \n",
    "result, count = calculate_sum()  \n",
    "    \n",
    "if count == 0:\n",
    "    print(\"No valid numbers entered.\")\n",
    "else:\n",
    "    print(f\"Sum of {count} numbers is: {result}\")\n",
    "\n"
   ]
  },
  {
   "cell_type": "code",
   "execution_count": 3,
   "metadata": {},
   "outputs": [
    {
     "name": "stdout",
     "output_type": "stream",
     "text": [
      "Sum of non-negative numbers: 290.0\n"
     ]
    }
   ],
   "source": [
    "#Question 2\n",
    "def calculate_sum():\n",
    "    total = 0\n",
    "    count = 0\n",
    "\n",
    "    while count < 10:\n",
    "        num = float(input(\"Enter a number: \"))\n",
    "        \n",
    "        if num < 0:\n",
    "            continue\n",
    "        \n",
    "        total += num\n",
    "        count += 1\n",
    "\n",
    "    return total\n",
    "\n",
    "result = calculate_sum()\n",
    "print(\"Sum of non-negative numbers:\", result)\n"
   ]
  },
  {
   "cell_type": "code",
   "execution_count": 4,
   "metadata": {},
   "outputs": [
    {
     "name": "stdout",
     "output_type": "stream",
     "text": [
      "Non-prime numbers within the range 10 to 50:\n",
      "10 12 14 15 16 18 20 21 22 24 25 26 27 28 30 32 33 34 35 36 38 39 40 42 44 45 46 48 49 50 "
     ]
    }
   ],
   "source": [
    "# Question 3\n",
    "def is_prime(num):\n",
    "    if num < 2:\n",
    "        return False\n",
    "    for i in range(2, int(num**0.5) + 1):\n",
    "        if num % i == 0:\n",
    "            return False\n",
    "    return True\n",
    "\n",
    "def display_non_primes(start, end):\n",
    "    print(f\"Non-prime numbers within the range {start} to {end}:\")\n",
    "    for number in range(start, end + 1):\n",
    "        if not is_prime(number):\n",
    "            print(number, end=\" \")\n",
    "\n",
    "\n",
    "start = int(input(\"Enter the start of the range: \"))\n",
    "end = int(input(\"Enter the end of the range: \"))\n",
    "\n",
    "\n",
    "display_non_primes(start, end)\n"
   ]
  },
  {
   "cell_type": "code",
   "execution_count": 6,
   "metadata": {},
   "outputs": [
    {
     "name": "stdout",
     "output_type": "stream",
     "text": [
      "Common elements: [2, 3, 4, 5]\n"
     ]
    }
   ],
   "source": [
    "# Question 4\n",
    "def find_common_elements(list1, list2):\n",
    "    common_elements = []\n",
    "\n",
    "    for element in list1:\n",
    "        if element in list2 and element not in common_elements:\n",
    "            common_elements.append(element)\n",
    "\n",
    "    return common_elements\n",
    "\n",
    "\n",
    "input_str = input(\"Enter elements for list1 separated by space: \")\n",
    "list1 = [int(x) for x in input_str.split()]\n",
    "\n",
    "\n",
    "input_str = input(\"Enter elements for list2 separated by space: \")\n",
    "list2 = [int(x) for x in input_str.split()]\n",
    "\n",
    "\n",
    "common_elements = find_common_elements(list1, list2)\n",
    "print(\"Common elements:\", common_elements)\n"
   ]
  },
  {
   "cell_type": "code",
   "execution_count": 8,
   "metadata": {},
   "outputs": [
    {
     "name": "stdout",
     "output_type": "stream",
     "text": [
      "10\n",
      "11\n",
      "12\n",
      "Breaking the loop as 12 is divisible by 4\n"
     ]
    }
   ],
   "source": [
    "# Question 5\n",
    "def print_numbers(start , end):\n",
    "    for number in range(start, end):\n",
    "        print(number)\n",
    "        if number % 4 == 0:\n",
    "            print(\"Breaking the loop as\", number, \"is divisible by 4\")\n",
    "            break\n",
    "\n",
    "start = int(input(\"Enter start = \"))\n",
    "end = int(input(\"Enter end = \"))\n",
    "print_numbers(start , end)\n"
   ]
  },
  {
   "cell_type": "code",
   "execution_count": 10,
   "metadata": {},
   "outputs": [
    {
     "name": "stdout",
     "output_type": "stream",
     "text": [
      "Original list: [1, 1, 2, 2, 3, 3, 4, 4]\n",
      "List with distinct elements: [1, 2, 3, 4]\n"
     ]
    }
   ],
   "source": [
    "#Question 6 (Repeat Elements)\n",
    "def get_unique_elements(input_list):\n",
    "    return list(set(input_list))\n",
    "\n",
    "\n",
    "input_str = input(\"Enter elements for the list separated by space: \")\n",
    "user_list = [int(x) for x in input_str.split()]\n",
    "\n",
    "\n",
    "unique_elements = get_unique_elements(user_list)\n",
    "\n",
    "\n",
    "print(\"Original list:\", user_list)\n",
    "print(\"List with distinct elements:\", unique_elements)\n"
   ]
  },
  {
   "cell_type": "code",
   "execution_count": 13,
   "metadata": {},
   "outputs": [
    {
     "name": "stdout",
     "output_type": "stream",
     "text": [
      "28 is a perfect number.\n"
     ]
    }
   ],
   "source": [
    "#Question 7\n",
    "\n",
    "def is_perfect_number(number):\n",
    "    if number <= 0:\n",
    "        return False\n",
    "\n",
    "    sum_of_divisors = 0\n",
    "    for divisor in range(1, number):\n",
    "        if number % divisor == 0:\n",
    "            sum_of_divisors += divisor\n",
    "\n",
    "    return sum_of_divisors == number\n",
    "\n",
    "\n",
    "input_number = int(input(\"Enter a number to check if it's perfect: \"))\n",
    "\n",
    "if is_perfect_number(input_number):\n",
    "    print(f\"{input_number} is a perfect number.\")\n",
    "else:\n",
    "    print(f\"{input_number} is not a perfect number.\")\n"
   ]
  },
  {
   "cell_type": "code",
   "execution_count": 14,
   "metadata": {},
   "outputs": [
    {
     "name": "stdout",
     "output_type": "stream",
     "text": [
      "Prime factors of 12: [2, 2, 3]\n"
     ]
    }
   ],
   "source": [
    "# Question 8\n",
    "\n",
    "def is_prime(num):\n",
    "    if num < 2:\n",
    "        return False\n",
    "    for i in range(2, int(num**0.5) + 1):\n",
    "        if num % i == 0:\n",
    "            return False\n",
    "    return True\n",
    "\n",
    "def prime_factors(number):\n",
    "    factors = []\n",
    "    divisor = 2\n",
    "\n",
    "    while number > 1:\n",
    "        while number % divisor == 0 and is_prime(divisor):\n",
    "            factors.append(divisor)\n",
    "            number /= divisor\n",
    "        divisor += 1\n",
    "\n",
    "    return factors\n",
    "\n",
    "\n",
    "input_number = int(input(\"Enter a number to find its prime factors: \"))\n",
    "\n",
    "\n",
    "factors = prime_factors(input_number)\n",
    "print(f\"Prime factors of {input_number}: {factors}\")\n"
   ]
  },
  {
   "cell_type": "code",
   "execution_count": 15,
   "metadata": {},
   "outputs": [
    {
     "name": "stdout",
     "output_type": "stream",
     "text": [
      "Binary representation of 10: 1010\n"
     ]
    }
   ],
   "source": [
    "# Question 9\n",
    "def decimal_to_binary(decimal_number):\n",
    "    if decimal_number < 0:\n",
    "        return \"Negative numbers are not supported.\"\n",
    "\n",
    "    binary_result = \"\"\n",
    "    while decimal_number > 0:\n",
    "        remainder = decimal_number % 2\n",
    "        binary_result = str(remainder) + binary_result\n",
    "        decimal_number //= 2\n",
    "\n",
    "    if not binary_result:\n",
    "        binary_result = \"0\"\n",
    "\n",
    "    return binary_result\n",
    "\n",
    "\n",
    "input_decimal = int(input(\"Enter a decimal number to convert to binary: \"))\n",
    "\n",
    "\n",
    "binary_representation = decimal_to_binary(input_decimal)\n",
    "print(f\"Binary representation of {input_decimal}: {binary_representation}\")\n"
   ]
  },
  {
   "cell_type": "code",
   "execution_count": 17,
   "metadata": {},
   "outputs": [
    {
     "name": "stdout",
     "output_type": "stream",
     "text": [
      "Sum of cubes of individual digits of 12: 9\n"
     ]
    }
   ],
   "source": [
    "# Question 10\n",
    "def cubesum(number):\n",
    "\n",
    "    if not isinstance(number, int) or number < 0:\n",
    "        return \"Invalid input. Please enter a non-negative integer.\"\n",
    "\n",
    "\n",
    "    sum_of_cubes = 0\n",
    "    for digit in str(number):\n",
    "        sum_of_cubes += int(digit) ** 3\n",
    "\n",
    "    return sum_of_cubes\n",
    "\n",
    "\n",
    "input_number = int(input(\"Enter a non-negative integer: \"))\n",
    "\n",
    "\n",
    "result = cubesum(input_number)\n",
    "print(f\"Sum of cubes of individual digits of {input_number}: {result}\")\n"
   ]
  },
  {
   "cell_type": "code",
   "execution_count": 24,
   "metadata": {},
   "outputs": [
    {
     "name": "stdout",
     "output_type": "stream",
     "text": [
      "The sum of proper divisors of 12 is: 16\n"
     ]
    }
   ],
   "source": [
    "def sumPdivisors(number):\n",
    "    sum_of_divisors = 0\n",
    "    for i in range(1, number):\n",
    "        if number % i == 0:\n",
    "            sum_of_divisors += i\n",
    "    return sum_of_divisors\n",
    "\n",
    "\n",
    "number = int(input(\"Enter a number to find the sum of its proper divisors: \"))\n",
    "\n",
    "\n",
    "result = sumPdivisors(number)\n",
    "print(f\"The sum of proper divisors of {number} is: {result}\")\n"
   ]
  },
  {
   "cell_type": "code",
   "execution_count": 21,
   "metadata": {},
   "outputs": [
    {
     "name": "stdout",
     "output_type": "stream",
     "text": [
      "12 x 1 = 12\n",
      "12 x 2 = 24\n",
      "12 x 3 = 36\n",
      "12 x 4 = 48\n",
      "12 x 5 = 60\n",
      "12 x 6 = 72\n",
      "12 x 7 = 84\n",
      "12 x 8 = 96\n",
      "12 x 9 = 108\n",
      "12 x 10 = 120\n",
      "12 x 11 = 132\n",
      "12 x 12 = 144\n",
      "12 x 13 = 156\n",
      "12 x 14 = 168\n",
      "12 x 15 = 180\n",
      "12 x 16 = 192\n",
      "12 x 17 = 204\n",
      "12 x 18 = 216\n",
      "12 x 19 = 228\n",
      "12 x 20 = 240\n",
      "12 x 21 = 252\n",
      "12 x 22 = 264\n",
      "12 x 23 = 276\n",
      "12 x 24 = 288\n",
      "12 x 25 = 300\n",
      "12 x 26 = 312\n",
      "12 x 27 = 324\n",
      "12 x 28 = 336\n",
      "12 x 29 = 348\n",
      "12 x 30 = 360\n",
      "12 x 31 = 372\n",
      "12 x 32 = 384\n"
     ]
    }
   ],
   "source": [
    "def print_multiplication_table(number, times, current=1):\n",
    "    if current > times:\n",
    "        return\n",
    "    print(f\"{number} x {current} = {number * current}\")\n",
    "    print_multiplication_table(number, times, current + 1)\n",
    "\n",
    "\n",
    "number = int(input(\"Enter the number for multiplication table: \"))\n",
    "\n",
    "\n",
    "times = int(input(\"Enter the number of times the table should be printed: \"))\n",
    "\n",
    "\n",
    "print_multiplication_table(number, times)\n"
   ]
  },
  {
   "cell_type": "code",
   "execution_count": 22,
   "metadata": {},
   "outputs": [
    {
     "name": "stdout",
     "output_type": "stream",
     "text": [
      "2.0 raised to the power of 3 is: 8.0\n"
     ]
    }
   ],
   "source": [
    "def power(base, exponent):\n",
    "    if exponent == 0:\n",
    "        return 1\n",
    "    else:\n",
    "        return base * power(base, exponent - 1)\n",
    "\n",
    "\n",
    "base = float(input(\"Enter the base: \"))\n",
    "exponent = int(input(\"Enter the exponent: \"))\n",
    "\n",
    "\n",
    "result = power(base, exponent)\n",
    "print(f\"{base} raised to the power of {exponent} is: {result}\")\n"
   ]
  },
  {
   "cell_type": "code",
   "execution_count": 23,
   "metadata": {},
   "outputs": [
    {
     "name": "stdout",
     "output_type": "stream",
     "text": [
      "Perfect numbers between 1 and 1000:\n",
      "6\n",
      "28\n",
      "496\n"
     ]
    }
   ],
   "source": [
    "def perfect(number):\n",
    "    sum_of_divisors = 0\n",
    "    for i in range(1, number):\n",
    "        if number % i == 0:\n",
    "            sum_of_divisors += i\n",
    "    return sum_of_divisors == number\n",
    "\n",
    "\n",
    "start_range = 1\n",
    "end_range = 1000\n",
    "\n",
    "\n",
    "print(\"Perfect numbers between 1 and 1000:\")\n",
    "for num in range(start_range, end_range + 1):\n",
    "    if perfect(num):\n",
    "        print(num)\n"
   ]
  }
 ],
 "metadata": {
  "kernelspec": {
   "display_name": "base",
   "language": "python",
   "name": "python3"
  },
  "language_info": {
   "codemirror_mode": {
    "name": "ipython",
    "version": 3
   },
   "file_extension": ".py",
   "mimetype": "text/x-python",
   "name": "python",
   "nbconvert_exporter": "python",
   "pygments_lexer": "ipython3",
   "version": "3.11.5"
  }
 },
 "nbformat": 4,
 "nbformat_minor": 2
}
