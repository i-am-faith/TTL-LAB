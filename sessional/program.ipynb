{
 "cells": [
  {
   "cell_type": "code",
   "execution_count": 9,
   "metadata": {},
   "outputs": [
    {
     "name": "stdout",
     "output_type": "stream",
     "text": [
      "Result: 243\n"
     ]
    }
   ],
   "source": [
    "def power(base, exponent):\n",
    "    if exponent == 0:\n",
    "        return 1\n",
    "    else:\n",
    "        return base * power(base, exponent - 1)\n",
    "num=int(input(\"enter number\"))\n",
    "exp=int(input(\"Enter exponent\"))\n",
    "print(\"Result:\",power(num,exp))"
   ]
  },
  {
   "cell_type": "code",
   "execution_count": 8,
   "metadata": {},
   "outputs": [
    {
     "name": "stdout",
     "output_type": "stream",
     "text": [
      "{'even': [2, 4, 6], 'odd': [1, 3, 5]}\n"
     ]
    }
   ],
   "source": [
    "dict={}\n",
    "dict[\"even\"]=[]\n",
    "dict[\"odd\"]=[]\n",
    "for i in range(0,6):\n",
    "    num=int(input(\"enter number\"))\n",
    "    if(num%2==0):\n",
    "        dict[\"even\"].append(num)\n",
    "    else:\n",
    "        dict[\"odd\"].append(num)\n",
    "print(dict)"
   ]
  }
 ],
 "metadata": {
  "kernelspec": {
   "display_name": "base",
   "language": "python",
   "name": "python3"
  },
  "language_info": {
   "codemirror_mode": {
    "name": "ipython",
    "version": 3
   },
   "file_extension": ".py",
   "mimetype": "text/x-python",
   "name": "python",
   "nbconvert_exporter": "python",
   "pygments_lexer": "ipython3",
   "version": "3.11.7"
  }
 },
 "nbformat": 4,
 "nbformat_minor": 2
}
