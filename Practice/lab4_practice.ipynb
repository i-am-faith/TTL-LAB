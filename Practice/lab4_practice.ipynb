{
 "cells": [
  {
   "cell_type": "code",
   "execution_count": 2,
   "metadata": {},
   "outputs": [
    {
     "name": "stdout",
     "output_type": "stream",
     "text": [
      "The Sum :  30\n",
      "The Difference :  10\n",
      "The Product :  200\n"
     ]
    }
   ],
   "source": [
    "def calculate(a,b):\n",
    "    print('The Sum : ', a + b)\n",
    "    print('The Difference : ', a - b)\n",
    "    print('The Product : ', a * b)\n",
    "a = 20\n",
    "b = 10\n",
    "calculate(a,b)"
   ]
  },
  {
   "cell_type": "code",
   "execution_count": 3,
   "metadata": {},
   "outputs": [
    {
     "name": "stdout",
     "output_type": "stream",
     "text": [
      "The Sum :  30\n",
      "The Difference :  10\n",
      "The Product :  200\n",
      "The Sum :  300\n",
      "The Difference :  100\n",
      "The Product :  20000\n"
     ]
    }
   ],
   "source": [
    "def calculate(a,b):\n",
    "    print('The Sum : ', a + b)\n",
    "    print('The Difference : ', a - b)\n",
    "    print('The Product : ', a * b)\n",
    "a = 20\n",
    "b = 10\n",
    "calculate(a,b)\n",
    "a = 200\n",
    "b = 100\n",
    "calculate(a,b)"
   ]
  },
  {
   "cell_type": "code",
   "execution_count": 4,
   "metadata": {},
   "outputs": [
    {
     "name": "stdout",
     "output_type": "stream",
     "text": [
      "The Sum :  30\n",
      "The Difference :  10\n",
      "The Product :  200\n",
      "The Sum :  300\n",
      "The Difference :  100\n",
      "The Product :  20000\n",
      "The Sum :  3000\n",
      "The Difference :  1000\n",
      "The Product :  2000000\n"
     ]
    }
   ],
   "source": [
    "def calculate(a,b):\n",
    "    print('The Sum : ', a + b)\n",
    "    print('The Difference : ', a - b) \n",
    "    print('The Product : ', a * b)\n",
    "a = 20\n",
    "b = 10\n",
    "calculate(a,b) \n",
    "a = 200\n",
    "b = 100\n",
    "calculate(a,b)\n",
    "a = 2000\n",
    "b = 1000\n",
    "calculate(a,b)"
   ]
  },
  {
   "cell_type": "code",
   "execution_count": 5,
   "metadata": {},
   "outputs": [
    {
     "name": "stdout",
     "output_type": "stream",
     "text": [
      "The Sum :  30\n",
      "The Difference :  10\n",
      "The Product :  200\n",
      "The Sum :  300\n",
      "The Difference :  100\n",
      "The Product :  20000\n",
      "The Sum :  3000\n",
      "The Difference :  1000\n",
      "The Product :  2000000\n"
     ]
    }
   ],
   "source": [
    "def calculate(a,b):\n",
    "    print('The Sum : ', a + b)\n",
    "    print('The Difference : ', a - b) \n",
    "    print('The Product : ', a * b)\n",
    "calculate(20,10) \n",
    "calculate(200,100)\n",
    "calculate(2000,1000)"
   ]
  },
  {
   "cell_type": "code",
   "execution_count": 7,
   "metadata": {},
   "outputs": [
    {
     "name": "stdout",
     "output_type": "stream",
     "text": [
      "Hello Sourin  Good Morning\n",
      "Hello Soumik  Good Morning\n"
     ]
    }
   ],
   "source": [
    "def wish(name):\n",
    "    print(\"Hello\",name,\" Good Morning\")\n",
    "wish(\"Sourin\")\n",
    "wish(\"Soumik\")"
   ]
  },
  {
   "cell_type": "code",
   "execution_count": 8,
   "metadata": {},
   "outputs": [
    {
     "name": "stdout",
     "output_type": "stream",
     "text": [
      "The Square of 4 is 16\n",
      "The Square of 5 is 25\n",
      "The Square of 7 is 49\n"
     ]
    }
   ],
   "source": [
    "def squareIt(number):\n",
    "    print(\"The Square of\",number,\"is\", number*number)\n",
    "squareIt(4)\n",
    "squareIt(5)\n",
    "squareIt(7)"
   ]
  },
  {
   "cell_type": "code",
   "execution_count": 9,
   "metadata": {},
   "outputs": [
    {
     "name": "stdout",
     "output_type": "stream",
     "text": [
      "The sum is 30\n",
      "The sum is 300\n"
     ]
    }
   ],
   "source": [
    "def add(x,y):\n",
    "    return x+y\n",
    "result=add(10,20)\n",
    "print(\"The sum is\",result)\n",
    "print(\"The sum is\",add(100,200))"
   ]
  },
  {
   "cell_type": "code",
   "execution_count": 10,
   "metadata": {},
   "outputs": [
    {
     "name": "stdout",
     "output_type": "stream",
     "text": [
      "The Factorial of 1 is : 1\n",
      "The Factorial of 2 is : 2\n",
      "The Factorial of 3 is : 6\n",
      "The Factorial of 4 is : 24\n"
     ]
    }
   ],
   "source": [
    "def fact(num):\n",
    "    result=1\n",
    "    while num>=1:\n",
    "        result=result*num\n",
    "        num=num-1\n",
    "    return result\n",
    "for i in range(1,5):\n",
    "    print(\"The Factorial of\",i,\"is :\",fact(i))"
   ]
  }
 ],
 "metadata": {
  "kernelspec": {
   "display_name": "base",
   "language": "python",
   "name": "python3"
  },
  "language_info": {
   "codemirror_mode": {
    "name": "ipython",
    "version": 3
   },
   "file_extension": ".py",
   "mimetype": "text/x-python",
   "name": "python",
   "nbconvert_exporter": "python",
   "pygments_lexer": "ipython3",
   "version": "3.11.5"
  }
 },
 "nbformat": 4,
 "nbformat_minor": 2
}
