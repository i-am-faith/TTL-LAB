{
 "cells": [
  {
   "cell_type": "code",
   "execution_count": 2,
   "metadata": {},
   "outputs": [
    {
     "name": "stdout",
     "output_type": "stream",
     "text": [
      "chetna's marks: [90, 85, 92]\n",
      "sourin's marks: [78, 95, 88]\n"
     ]
    }
   ],
   "source": [
    "# Question 1\n",
    "class Student:\n",
    "    def __init__(self, name):\n",
    "        self.name = name\n",
    "        self.marks = [0, 0, 0]  # Initializing marks for three subjects with zeros\n",
    "\n",
    "    def set_marks(self, subject_index, marks):\n",
    "        self.marks[subject_index] = marks\n",
    "\n",
    "    def get_marks(self):\n",
    "        return self.marks\n",
    "\n",
    "\n",
    "name1 = input(\"Enter student 1 name = \")\n",
    "name2 = input(\"Enter student 2 name = \")\n",
    "student1 = Student(name1)\n",
    "student2 = Student(name2)\n",
    "\n",
    "\n",
    "student1.set_marks(0, 90)  \n",
    "student1.set_marks(1, 85)  \n",
    "student1.set_marks(2, 92)  \n",
    "\n",
    "student2.set_marks(0, 78)  \n",
    "student2.set_marks(1, 95)  \n",
    "student2.set_marks(2, 88)  \n",
    "\n",
    "\n",
    "print(f\"{student1.name}'s marks: {student1.get_marks()}\")\n",
    "print(f\"{student2.name}'s marks: {student2.get_marks()}\")\n"
   ]
  },
  {
   "cell_type": "code",
   "execution_count": 4,
   "metadata": {},
   "outputs": [
    {
     "name": "stdout",
     "output_type": "stream",
     "text": [
      "Total Number of Employees: 1\n",
      "\n",
      "Employee Name: sourin\n",
      "Designation: dev\n",
      "Salary: $123.0\n",
      "\n"
     ]
    }
   ],
   "source": [
    "# Questiion 2\n",
    "class Employee:\n",
    "    total_employees = 0  \n",
    "\n",
    "    def __init__(self, name, designation, salary):\n",
    "        self.name = name\n",
    "        self.designation = designation\n",
    "        self.salary = salary\n",
    "        Employee.total_employees += 1 \n",
    "\n",
    "    def display_employee_details(self):\n",
    "        print(f\"Employee Name: {self.name}\")\n",
    "        print(f\"Designation: {self.designation}\")\n",
    "        print(f\"Salary: ${self.salary}\")\n",
    "        print()\n",
    "\n",
    "\n",
    "num_employees = int(input(\"Enter the number of employees: \"))\n",
    "\n",
    "for _ in range(num_employees):\n",
    "    name = input(\"Enter employee name: \")\n",
    "    designation = input(\"Enter employee designation: \")\n",
    "    salary = float(input(\"Enter employee salary: \"))\n",
    "\n",
    "\n",
    "    employee = Employee(name, designation, salary)\n",
    "\n",
    "\n",
    "\n",
    "print(f\"Total Number of Employees: {Employee.total_employees}\\n\")\n",
    "for _ in range(num_employees):\n",
    "    employee.display_employee_details()\n"
   ]
  },
  {
   "cell_type": "code",
   "execution_count": 5,
   "metadata": {},
   "outputs": [
    {
     "name": "stdout",
     "output_type": "stream",
     "text": [
      "sourin is eligible to vote.\n"
     ]
    }
   ],
   "source": [
    "# Question 3\n",
    "from datetime import datetime\n",
    "\n",
    "class Person:\n",
    "    def __init__(self, name, dob):\n",
    "        self.name = name\n",
    "        self.dob = dob\n",
    "\n",
    "    def calculate_age(self):\n",
    "        today = datetime.now()\n",
    "        birth_date = datetime.strptime(self.dob, \"%Y-%m-%d\")\n",
    "        age = today.year - birth_date.year - ((today.month, today.day) < (birth_date.month, birth_date.day))\n",
    "        return age\n",
    "\n",
    "    def check_voting_eligibility(self):\n",
    "        age = self.calculate_age()\n",
    "        return age >= 18\n",
    "\n",
    "\n",
    "name = input(\"Enter person's name: \")\n",
    "dob = input(\"Enter person's date of birth (YYYY-MM-DD): \")\n",
    "\n",
    "\n",
    "person = Person(name, dob)\n",
    "\n",
    "\n",
    "if person.check_voting_eligibility():\n",
    "    print(f\"{person.name} is eligible to vote.\")\n",
    "else:\n",
    "    print(f\"{person.name} is not eligible to vote yet.\")\n"
   ]
  },
  {
   "cell_type": "code",
   "execution_count": 6,
   "metadata": {},
   "outputs": [
    {
     "name": "stdout",
     "output_type": "stream",
     "text": [
      "Area of the circle: 78.50\n",
      "Circumference of the circle: 31.40\n"
     ]
    }
   ],
   "source": [
    "# Question 4\n",
    "class Circle:\n",
    "    pi = 3.14  \n",
    "\n",
    "    def __init__(self, radius):\n",
    "        self.radius = radius\n",
    "\n",
    "    def calculate_area(self):\n",
    "        return Circle.pi * (self.radius ** 2)\n",
    "\n",
    "    def calculate_circumference(self):\n",
    "        return 2 * Circle.pi * self.radius\n",
    "\n",
    "radius = float(input(\"Enter the radius of the circle: \"))\n",
    "\n",
    "\n",
    "circle = Circle(radius)\n",
    "\n",
    "\n",
    "area = circle.calculate_area()\n",
    "circumference = circle.calculate_circumference()\n",
    "\n",
    "print(f\"Area of the circle: {area:.2f}\")\n",
    "print(f\"Circumference of the circle: {circumference:.2f}\")\n"
   ]
  },
  {
   "cell_type": "code",
   "execution_count": 9,
   "metadata": {},
   "outputs": [
    {
     "name": "stdout",
     "output_type": "stream",
     "text": [
      "\n",
      "Student Information:\n",
      "Name: sourin\n",
      "Roll Number: 2105833\n",
      "Total Marks: 270.00\n",
      "\n",
      "Student Information:\n",
      "Name: soumik\n",
      "Roll Number: 2105672\n",
      "Total Marks: 260.00\n"
     ]
    }
   ],
   "source": [
    "# Question 5 \n",
    "class Student:\n",
    "    def __init__(self, name, roll_no, marks):\n",
    "        self.name = name\n",
    "        self.roll_no = roll_no\n",
    "        self.marks = marks\n",
    "\n",
    "    def calculate_total_marks(self):\n",
    "        return sum(self.marks)\n",
    "\n",
    "\n",
    "num_students = int(input(\"Enter the number of students: \"))\n",
    "\n",
    "students = []  \n",
    "\n",
    "\n",
    "for _ in range(num_students):\n",
    "    name = input(\"Enter student name: \")\n",
    "    roll_no = input(\"Enter student roll number: \")\n",
    "\n",
    "\n",
    "    marks = [float(input(f\"Enter marks for Subject {i + 1}: \")) for i in range(3)]\n",
    "\n",
    "\n",
    "    student = Student(name, roll_no, marks)\n",
    "    students.append(student)\n",
    "\n",
    "\n",
    "for student in students:\n",
    "    total_marks = student.calculate_total_marks()\n",
    "    print(\"\\nStudent Information:\")\n",
    "    print(f\"Name: {student.name}\")\n",
    "    print(f\"Roll Number: {student.roll_no}\")\n",
    "    print(f\"Total Marks: {total_marks:.2f}\")\n"
   ]
  },
  {
   "cell_type": "code",
   "execution_count": 10,
   "metadata": {},
   "outputs": [
    {
     "name": "stdout",
     "output_type": "stream",
     "text": [
      "Area of the rectangle: 50.00\n"
     ]
    }
   ],
   "source": [
    "# Question 6\n",
    "class Rectangle:\n",
    "    def __init__(self, length, breadth):\n",
    "        self.length = length\n",
    "        self.breadth = breadth\n",
    "\n",
    "    def calculate_area(self):\n",
    "        return self.length * self.breadth\n",
    "\n",
    "\n",
    "length = float(input(\"Enter the length of the rectangle: \"))\n",
    "breadth = float(input(\"Enter the breadth of the rectangle: \"))\n",
    "\n",
    "\n",
    "rectangle = Rectangle(length, breadth)\n",
    "\n",
    "\n",
    "area = rectangle.calculate_area()\n",
    "print(f\"Area of the rectangle: {area:.2f}\")\n"
   ]
  },
  {
   "cell_type": "code",
   "execution_count": 13,
   "metadata": {},
   "outputs": [
    {
     "name": "stdout",
     "output_type": "stream",
     "text": [
      "Simplified Fraction: 1/2\n"
     ]
    }
   ],
   "source": [
    "# Question 7\n",
    "class Fraction:\n",
    "    def __init__(self, numerator, denominator):\n",
    "        self.numerator = numerator\n",
    "        self.denominator = denominator\n",
    "\n",
    "    def simplify(self):\n",
    "        gcd = self.calculate_gcd(self.numerator, self.denominator)\n",
    "        simplified_numerator = self.numerator // gcd\n",
    "        simplified_denominator = self.denominator // gcd\n",
    "        return simplified_numerator, simplified_denominator\n",
    "\n",
    "    @staticmethod\n",
    "    def calculate_gcd(a, b):\n",
    "        while b:\n",
    "            a, b = b, a % b\n",
    "        return a\n",
    "\n",
    "\n",
    "numerator = int(input(\"Enter the numerator of the fraction: \"))\n",
    "denominator = int(input(\"Enter the denominator of the fraction: \"))\n",
    "\n",
    "\n",
    "fraction = Fraction(numerator, denominator)\n",
    "\n",
    "\n",
    "simplified_numerator, simplified_denominator = fraction.simplify()\n",
    "\n",
    "\n",
    "print(f\"Simplified Fraction: {simplified_numerator}/{simplified_denominator}\")\n"
   ]
  },
  {
   "cell_type": "code",
   "execution_count": 14,
   "metadata": {},
   "outputs": [
    {
     "name": "stdout",
     "output_type": "stream",
     "text": [
      "\n",
      "Enter dimensions for Rectangle:\n",
      "Area of the rectangle: 25.00\n",
      "\n",
      "Enter dimensions for Triangle:\n",
      "Area of the triangle: 3.00\n"
     ]
    }
   ],
   "source": [
    "# Question 8\n",
    "from abc import ABC, abstractmethod\n",
    "\n",
    "class Polygon(ABC):\n",
    "    @abstractmethod\n",
    "    def get_dimensions(self):\n",
    "        pass\n",
    "\n",
    "    @abstractmethod\n",
    "    def calculate_area(self):\n",
    "        pass\n",
    "\n",
    "class Rectangle(Polygon):\n",
    "    def get_dimensions(self):\n",
    "        self.length = float(input(\"Enter the length of the rectangle: \"))\n",
    "        self.width = float(input(\"Enter the width of the rectangle: \"))\n",
    "\n",
    "    def calculate_area(self):\n",
    "        return self.length * self.width\n",
    "\n",
    "class Triangle(Polygon):\n",
    "    def get_dimensions(self):\n",
    "        self.base = float(input(\"Enter the base length of the triangle: \"))\n",
    "        self.height = float(input(\"Enter the height of the triangle: \"))\n",
    "\n",
    "    def calculate_area(self):\n",
    "        return 0.5 * self.base * self.height\n",
    "\n",
    "\n",
    "rectangle = Rectangle()\n",
    "triangle = Triangle()\n",
    "\n",
    "\n",
    "print(\"\\nEnter dimensions for Rectangle:\")\n",
    "rectangle.get_dimensions()\n",
    "rectangle_area = rectangle.calculate_area()\n",
    "print(f\"Area of the rectangle: {rectangle_area:.2f}\")\n",
    "\n",
    "\n",
    "print(\"\\nEnter dimensions for Triangle:\")\n",
    "triangle.get_dimensions()\n",
    "triangle_area = triangle.calculate_area()\n",
    "print(f\"Area of the triangle: {triangle_area:.2f}\")\n"
   ]
  },
  {
   "cell_type": "code",
   "execution_count": 16,
   "metadata": {},
   "outputs": [
    {
     "name": "stdout",
     "output_type": "stream",
     "text": [
      "Payment by Cash\n",
      "Total Amount to be paid: $12000.00\n"
     ]
    }
   ],
   "source": [
    "# Question 9\n",
    "class Bill:\n",
    "    def __init__(self, amount):\n",
    "        self.amount = amount\n",
    "\n",
    "    def calculate_total(self):\n",
    "        return self.amount\n",
    "\n",
    "class CardPayment(Bill):\n",
    "    def __init__(self, amount, card_number, card_holder):\n",
    "        super().__init__(amount)\n",
    "        self.card_number = card_number\n",
    "        self.card_holder = card_holder\n",
    "\n",
    "    def calculate_total(self):\n",
    "\n",
    "        total_with_fee = super().calculate_total() * 1.02\n",
    "        return total_with_fee\n",
    "\n",
    "    def payment_details(self):\n",
    "        print(f\"Payment by Card:\")\n",
    "        print(f\"Card Number: {self.card_number}\")\n",
    "        print(f\"Card Holder: {self.card_holder}\")\n",
    "\n",
    "class CashPayment(Bill):\n",
    "    def payment_details(self):\n",
    "        print(\"Payment by Cash\")\n",
    "\n",
    "\n",
    "amount = float(input(\"Enter the bill amount: \"))\n",
    "\n",
    "\n",
    "payment_method = input(\"Choose payment method (card/cash): \").lower()\n",
    "\n",
    "\n",
    "if payment_method == 'card':\n",
    "    card_number = input(\"Enter card number: \")\n",
    "    card_holder = input(\"Enter card holder's name: \")\n",
    "    payment = CardPayment(amount, card_number, card_holder)\n",
    "else:\n",
    "    payment = CashPayment(amount)\n",
    "\n",
    "\n",
    "payment.payment_details()\n",
    "total_amount = payment.calculate_total()\n",
    "print(f\"Total Amount to be paid: ${total_amount:.2f}\")\n"
   ]
  },
  {
   "cell_type": "code",
   "execution_count": 17,
   "metadata": {},
   "outputs": [
    {
     "name": "stdout",
     "output_type": "stream",
     "text": [
      "\n",
      "Person Information:\n",
      "Person Information:\n",
      "Name: sourin\n",
      "Age: 21\n",
      "\n",
      "Faculty Information:\n",
      "Person Information:\n",
      "Name: sarita tripathy\n",
      "Age: 30\n",
      "Publications: 2\n"
     ]
    }
   ],
   "source": [
    "# Question 10\n",
    "class Person:\n",
    "    def __init__(self, name, age):\n",
    "        self.name = name\n",
    "        self.age = age\n",
    "\n",
    "    def display_person_info(self):\n",
    "        print(f\"Person Information:\")\n",
    "        print(f\"Name: {self.name}\")\n",
    "        print(f\"Age: {self.age}\")\n",
    "\n",
    "class Faculty(Person):\n",
    "    publications = 0  \n",
    "\n",
    "    def __init__(self, name, age, publications):\n",
    "        super().__init__(name, age)\n",
    "        self.publications = publications\n",
    "\n",
    "    def display_faculty_info(self):\n",
    "        self.display_person_info()\n",
    "        print(f\"Publications: {self.publications}\")\n",
    "\n",
    "\n",
    "name = input(\"Enter person's name: \")\n",
    "age = int(input(\"Enter person's age: \"))\n",
    "\n",
    "\n",
    "person = Person(name, age)\n",
    "\n",
    "\n",
    "faculty_name = input(\"Enter faculty's name: \")\n",
    "faculty_age = int(input(\"Enter faculty's age: \"))\n",
    "publications = int(input(\"Enter the number of publications: \"))\n",
    "\n",
    "\n",
    "faculty_member = Faculty(faculty_name, faculty_age, publications)\n",
    "\n",
    "\n",
    "print(\"\\nPerson Information:\")\n",
    "person.display_person_info()\n",
    "\n",
    "print(\"\\nFaculty Information:\")\n",
    "faculty_member.display_faculty_info()\n"
   ]
  }
 ],
 "metadata": {
  "kernelspec": {
   "display_name": "base",
   "language": "python",
   "name": "python3"
  },
  "language_info": {
   "codemirror_mode": {
    "name": "ipython",
    "version": 3
   },
   "file_extension": ".py",
   "mimetype": "text/x-python",
   "name": "python",
   "nbconvert_exporter": "python",
   "pygments_lexer": "ipython3",
   "version": "3.11.5"
  }
 },
 "nbformat": 4,
 "nbformat_minor": 2
}
