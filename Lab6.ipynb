{
 "cells": [
  {
   "cell_type": "code",
   "execution_count": 1,
   "id": "ac8185e8",
   "metadata": {},
   "outputs": [],
   "source": [
    "import numpy as np"
   ]
  },
  {
   "cell_type": "code",
   "execution_count": 6,
   "id": "e86424ba",
   "metadata": {},
   "outputs": [
    {
     "name": "stdout",
     "output_type": "stream",
     "text": [
      "[1, 2, 3, 4, 5, 0, 7, 8]\n"
     ]
    }
   ],
   "source": [
    "my_list=[1,2,3,4,5,0,7,8]\n",
    "print(my_list)"
   ]
  },
  {
   "cell_type": "code",
   "execution_count": 7,
   "id": "24e53d2f",
   "metadata": {},
   "outputs": [],
   "source": [
    "arr_1=np.array(my_list, dtype=int)"
   ]
  },
  {
   "cell_type": "code",
   "execution_count": 8,
   "id": "0b6e2d13",
   "metadata": {},
   "outputs": [
    {
     "name": "stdout",
     "output_type": "stream",
     "text": [
      "[1 2 3 4 5 0 7 8]\n"
     ]
    }
   ],
   "source": [
    "print(arr_1)"
   ]
  },
  {
   "cell_type": "code",
   "execution_count": 10,
   "id": "1cede346",
   "metadata": {},
   "outputs": [],
   "source": [
    "###todays assignment###"
   ]
  },
  {
   "cell_type": "code",
   "execution_count": 13,
   "id": "bed35442",
   "metadata": {},
   "outputs": [
    {
     "name": "stdout",
     "output_type": "stream",
     "text": [
      "[[1 2 3]\n",
      " [6 5 4]\n",
      " [7 8 9]]\n"
     ]
    }
   ],
   "source": [
    "import numpy as np\n",
    "\n",
    "\n",
    "my_array = np.array([[3, 2, 1], [4, 5, 6], [9, 8, 7]])\n",
    "\n",
    "\n",
    "reversed_array = np.flip(my_array, axis=1)\n",
    "\n",
    "print(reversed_array)\n"
   ]
  },
  {
   "cell_type": "code",
   "execution_count": 2,
   "id": "5d44f315",
   "metadata": {},
   "outputs": [
    {
     "name": "stdout",
     "output_type": "stream",
     "text": [
      "[[7.12081665 6.54191752 7.31507793 5.84066212]\n",
      " [7.72515033 7.63473287 6.41323158 6.49814588]\n",
      " [6.34829106 5.09918989 6.51779754 9.95987029]]\n"
     ]
    }
   ],
   "source": [
    "rows, cols = 3, 4\n",
    "\n",
    "random_array = np.random.uniform(5, 10, size=(rows, cols))\n",
    "\n",
    "print(random_array)\n"
   ]
  },
  {
   "cell_type": "code",
   "execution_count": 18,
   "id": "fe760320",
   "metadata": {},
   "outputs": [
    {
     "name": "stdout",
     "output_type": "stream",
     "text": [
      "25th percentile: 20.00\n",
      "Median (50th percentile): 30.00\n",
      "75th percentile: 40.00\n"
     ]
    }
   ],
   "source": [
    "my_array = np.array([10, 20, 30, 40, 50])\n",
    "\n",
    "p25 = np.percentile(my_array, 25)\n",
    "median = np.percentile(my_array, 50)\n",
    "p75 = np.percentile(my_array, 75)\n",
    "\n",
    "print(f\"25th percentile: {p25:.2f}\")\n",
    "print(f\"Median (50th percentile): {median:.2f}\")\n",
    "print(f\"75th percentile: {p75:.2f}\")\n"
   ]
  },
  {
   "cell_type": "code",
   "execution_count": 4,
   "id": "2496c609",
   "metadata": {},
   "outputs": [
    {
     "name": "stdout",
     "output_type": "stream",
     "text": [
      "Positions of missing  values: (array([4], dtype=int64),)\n"
     ]
    }
   ],
   "source": [
    "import numpy as np\n",
    "\n",
    "\n",
    "data = np.array([1, 2, 3, 5, np.nan, 7, 8, 9, 10])\n",
    "\n",
    "# Find the positions of missing values\n",
    "missing_indices = np.where(np.isnan(data))\n",
    "\n",
    "# Print the positions of missing values\n",
    "print(\"Positions of missing  values:\", missing_indices)\n"
   ]
  },
  {
   "cell_type": "code",
   "execution_count": 28,
   "id": "88eb9420",
   "metadata": {},
   "outputs": [
    {
     "name": "stdout",
     "output_type": "stream",
     "text": [
      "Original array:\n",
      "[[10  8  4]\n",
      " [ 6  5  2]\n",
      " [ 9  4  7]]\n",
      "\n",
      "Sorted array by column:\n",
      "[[ 9  4  7]\n",
      " [ 6  5  2]\n",
      " [10  8  4]]\n"
     ]
    }
   ],
   "source": [
    "array = np.array([[10, 8, 4],\n",
    "                  [6, 5, 2],\n",
    "                  [9, 4, 7]])\n",
    "\n",
    "\n",
    "column_index = 1  \n",
    "\n",
    "\n",
    "sorted_indices = np.argsort(array[:, column_index])\n",
    "\n",
    "\n",
    "sorted_array = array[sorted_indices]\n",
    "\n",
    "print(\"Original array:\")\n",
    "print(array)\n",
    "\n",
    "print(\"\\nSorted array by column:\")\n",
    "print(sorted_array)"
   ]
  },
  {
   "cell_type": "code",
   "execution_count": 29,
   "id": "1d62976f",
   "metadata": {},
   "outputs": [
    {
     "name": "stdout",
     "output_type": "stream",
     "text": [
      "The most frequent value is: 1\n"
     ]
    }
   ],
   "source": [
    "my_array = np.array([1, 2, 3, 1, 2, 1, 1, 1, 3, 2, 2, 1])\n",
    "\n",
    "\n",
    "counts = np.bincount(my_array)\n",
    "\n",
    "\n",
    "most_frequent_value = np.argmax(counts)\n",
    "\n",
    "print(f\"The most frequent value is: {most_frequent_value}\")\n"
   ]
  },
  {
   "cell_type": "code",
   "execution_count": 42,
   "id": "2feffdee",
   "metadata": {},
   "outputs": [
    {
     "name": "stdout",
     "output_type": "stream",
     "text": [
      "Flattened array (using flatten()):\n",
      "[1 2 3 4 5 6 7 8 9]\n"
     ]
    }
   ],
   "source": [
    "my_array = np.array([[1, 2, 3], [4, 5, 6], [7, 8, 9]])\n",
    "\n",
    "# Flatten the 2D array using faltten function()\n",
    "flat_array = my_array.flatten()\n",
    "print(\"Flattened array (using flatten()):\")\n",
    "print(flat_array)\n"
   ]
  },
  {
   "cell_type": "code",
   "execution_count": 33,
   "id": "1bc6037f",
   "metadata": {},
   "outputs": [
    {
     "name": "stdout",
     "output_type": "stream",
     "text": [
      "Mean: 30.00\n",
      "Median: 30.00\n",
      "Standard Deviation: 14.14\n"
     ]
    }
   ],
   "source": [
    "data = np.array([10, 20, 30, 40, 50])\n",
    "\n",
    "#  mean\n",
    "mean_value = np.mean(data)\n",
    "print(f\"Mean: {mean_value:.2f}\")\n",
    "\n",
    "#median\n",
    "median_value = np.median(data)\n",
    "print(f\"Median: {median_value:.2f}\")\n",
    "\n",
    "# sd\n",
    "\n",
    "std_value = np.std(data)\n",
    "print(f\"Standard Deviation: {std_value:.2f}\")\n"
   ]
  },
  {
   "cell_type": "code",
   "execution_count": 37,
   "id": "44cc4dc0",
   "metadata": {},
   "outputs": [
    {
     "name": "stdout",
     "output_type": "stream",
     "text": [
      "Euclidean Distance: 5.20\n",
      "Manhattan Distance: 9.00\n"
     ]
    }
   ],
   "source": [
    "point1 = np.array([1, 2, 3])\n",
    "point2 = np.array([4, 5, 6])\n",
    "\n",
    "# Euclidean distance\n",
    "euclidean_distance = np.linalg.norm(point1 - point2)\n",
    "print(f\"Euclidean Distance: {euclidean_distance:.2f}\")\n",
    "\n",
    "# Manhaten distance \n",
    "\n",
    "manhattan_distance = np.sum(np.abs(point1 - point2))\n",
    "print(f\"Manhattan Distance: {manhattan_distance:.2f}\")\n",
    "\n"
   ]
  },
  {
   "cell_type": "code",
   "execution_count": null,
   "id": "56f9fb9c",
   "metadata": {},
   "outputs": [],
   "source": []
  }
 ],
 "metadata": {
  "kernelspec": {
   "display_name": "Python 3 (ipykernel)",
   "language": "python",
   "name": "python3"
  },
  "language_info": {
   "codemirror_mode": {
    "name": "ipython",
    "version": 3
   },
   "file_extension": ".py",
   "mimetype": "text/x-python",
   "name": "python",
   "nbconvert_exporter": "python",
   "pygments_lexer": "ipython3",
   "version": "3.11.7"
  }
 },
 "nbformat": 4,
 "nbformat_minor": 5
}
